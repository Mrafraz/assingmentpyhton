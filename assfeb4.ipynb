{
 "cells": [
  {
   "cell_type": "code",
   "execution_count": 1,
   "id": "e42f1565-7b1a-4a8e-8dac-f7595a3295db",
   "metadata": {},
   "outputs": [],
   "source": [
    "l=[('Sachin Tendulkar', 34357), ('Ricky Ponting', 27483), ('Jack Kallis', 25534), ('Virat Kohli', 24936)]"
   ]
  },
  {
   "cell_type": "code",
   "execution_count": 2,
   "id": "da49b3d6-d643-4997-bead-3f55e8b8386d",
   "metadata": {},
   "outputs": [
    {
     "data": {
      "text/plain": [
       "[('Sachin Tendulkar', 34357),\n",
       " ('Ricky Ponting', 27483),\n",
       " ('Jack Kallis', 25534),\n",
       " ('Virat Kohli', 24936)]"
      ]
     },
     "execution_count": 2,
     "metadata": {},
     "output_type": "execute_result"
    }
   ],
   "source": [
    "l"
   ]
  },
  {
   "cell_type": "markdown",
   "id": "84b7b655-0d62-46ca-8cf5-3029d513e033",
   "metadata": {},
   "source": [
    "The basic distinction between sort() and sorted() is that the sort() function sorts the list in place, i.e. it modifies the list itself and returns a None value. The sorted() function creates a copy of the original list, sorts it, and returns this new list, leaving the original list unmodified."
   ]
  },
  {
   "cell_type": "code",
   "execution_count": 10,
   "id": "71ebf795-e0a2-4a0d-8753-8bda9688484b",
   "metadata": {},
   "outputs": [],
   "source": [
    "s=lambda l:l.sort(key=lambda x:x[1])"
   ]
  },
  {
   "cell_type": "code",
   "execution_count": 12,
   "id": "cebc735a-9220-4328-ba8e-0a3e1e4887c2",
   "metadata": {},
   "outputs": [],
   "source": [
    "s(l)"
   ]
  },
  {
   "cell_type": "code",
   "execution_count": 13,
   "id": "44694170-1019-45f0-b099-f94ebe731520",
   "metadata": {},
   "outputs": [
    {
     "data": {
      "text/plain": [
       "[('Virat Kohli', 24936),\n",
       " ('Jack Kallis', 25534),\n",
       " ('Ricky Ponting', 27483),\n",
       " ('Sachin Tendulkar', 34357)]"
      ]
     },
     "execution_count": 13,
     "metadata": {},
     "output_type": "execute_result"
    }
   ],
   "source": [
    "l"
   ]
  },
  {
   "cell_type": "markdown",
   "id": "99787f19-0981-4f92-a6b2-feeb23f738d9",
   "metadata": {},
   "source": [
    "q2"
   ]
  },
  {
   "cell_type": "code",
   "execution_count": 18,
   "id": "21ce1a2c-36ef-4369-bdde-27d00582e646",
   "metadata": {},
   "outputs": [],
   "source": [
    "l1=[1, 2, 3, 4, 5, 6, 7, 8, 9, 10]"
   ]
  },
  {
   "cell_type": "code",
   "execution_count": 19,
   "id": "f6a3207e-df47-4fbb-9a26-1a3a56b9aca0",
   "metadata": {},
   "outputs": [
    {
     "data": {
      "text/plain": [
       "[1, 4, 9, 16, 25, 36, 49, 64, 81, 100]"
      ]
     },
     "execution_count": 19,
     "metadata": {},
     "output_type": "execute_result"
    }
   ],
   "source": [
    "list(map(lambda a:a*a,l1))"
   ]
  },
  {
   "cell_type": "markdown",
   "id": "99597213-84d4-4eba-85bc-b5523028129a",
   "metadata": {},
   "source": [
    "q3"
   ]
  },
  {
   "cell_type": "code",
   "execution_count": 20,
   "id": "018a8ef7-0160-4779-84da-a35093e488a2",
   "metadata": {},
   "outputs": [
    {
     "data": {
      "text/plain": [
       "['1', '2', '3', '4', '5', '6', '7', '8', '9', '10']"
      ]
     },
     "execution_count": 20,
     "metadata": {},
     "output_type": "execute_result"
    }
   ],
   "source": [
    "list(map(lambda a:str(a),l1))"
   ]
  },
  {
   "cell_type": "markdown",
   "id": "cd3eac74-cbcf-4501-b6ed-dd5d49a98b30",
   "metadata": {},
   "source": [
    "q4\n"
   ]
  },
  {
   "cell_type": "code",
   "execution_count": 23,
   "id": "49d437c1-9258-4f6c-a47e-469aebf62b60",
   "metadata": {},
   "outputs": [],
   "source": [
    "for i in range(10,25):\n",
    "    l1.append(i)"
   ]
  },
  {
   "cell_type": "code",
   "execution_count": 25,
   "id": "36618d53-65f9-4ac1-8189-3d6330354ead",
   "metadata": {},
   "outputs": [],
   "source": [
    "l1.append(25)"
   ]
  },
  {
   "cell_type": "code",
   "execution_count": 28,
   "id": "ff595ccc-5eef-4ef9-80b8-4d92aa2900bc",
   "metadata": {},
   "outputs": [],
   "source": [
    "from functools import reduce"
   ]
  },
  {
   "cell_type": "code",
   "execution_count": 29,
   "id": "6bce3b00-6f9e-4a0d-bc57-b68e36612f8f",
   "metadata": {},
   "outputs": [
    {
     "data": {
      "text/plain": [
       "155112100433309859840000000"
      ]
     },
     "execution_count": 29,
     "metadata": {},
     "output_type": "execute_result"
    }
   ],
   "source": [
    "reduce(lambda x,y:x*y,l1)"
   ]
  },
  {
   "cell_type": "markdown",
   "id": "de63acfa-f3b6-4dcd-98a7-6115a0ebca96",
   "metadata": {},
   "source": [
    "q5"
   ]
  },
  {
   "cell_type": "code",
   "execution_count": 30,
   "id": "5b5ab21f-1f08-4199-a70b-447742087d29",
   "metadata": {},
   "outputs": [],
   "source": [
    "l2=[2, 3, 6, 9, 27, 60, 90, 120, 55, 46]"
   ]
  },
  {
   "cell_type": "code",
   "execution_count": 33,
   "id": "0861d936-5821-40f5-bc81-2d6a650b3942",
   "metadata": {},
   "outputs": [
    {
     "data": {
      "text/plain": [
       "[60, 120]"
      ]
     },
     "execution_count": 33,
     "metadata": {},
     "output_type": "execute_result"
    }
   ],
   "source": [
    "list(filter(lambda x:x%2==0 and x%3==0,l2))"
   ]
  },
  {
   "cell_type": "markdown",
   "id": "7e0c7728-7451-465a-af3b-af5fb38da221",
   "metadata": {},
   "source": [
    "q6"
   ]
  },
  {
   "cell_type": "code",
   "execution_count": 34,
   "id": "b1963050-a679-4b80-9dbd-304de75bdcb6",
   "metadata": {},
   "outputs": [],
   "source": [
    "l3=['python', 'php', 'aba', 'radar', 'level']"
   ]
  },
  {
   "cell_type": "code",
   "execution_count": 36,
   "id": "e2b8693d-8014-4b5f-9096-289432004907",
   "metadata": {},
   "outputs": [
    {
     "data": {
      "text/plain": [
       "['php', 'aba', 'radar', 'level']"
      ]
     },
     "execution_count": 36,
     "metadata": {},
     "output_type": "execute_result"
    }
   ],
   "source": [
    "list(filter(lambda x:x==x[::-1],l3))"
   ]
  },
  {
   "cell_type": "code",
   "execution_count": null,
   "id": "c9a4f6e0-6702-4ebf-8270-56f029747556",
   "metadata": {},
   "outputs": [],
   "source": []
  }
 ],
 "metadata": {
  "kernelspec": {
   "display_name": "Python 3 (ipykernel)",
   "language": "python",
   "name": "python3"
  },
  "language_info": {
   "codemirror_mode": {
    "name": "ipython",
    "version": 3
   },
   "file_extension": ".py",
   "mimetype": "text/x-python",
   "name": "python",
   "nbconvert_exporter": "python",
   "pygments_lexer": "ipython3",
   "version": "3.10.8"
  }
 },
 "nbformat": 4,
 "nbformat_minor": 5
}
