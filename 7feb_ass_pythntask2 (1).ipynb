{
 "cells": [
  {
   "cell_type": "markdown",
   "id": "e6b14d71-0ad6-466a-bed5-c5d7af3ce392",
   "metadata": {},
   "source": [
    "Q1. You are writing code for a company. The requirement of the company is that you create a python\n",
    "function that will check whether the password entered by the user is correct or not. The function should\n",
    "take the password as input and return the string “Valid Password” if the entered password follows the\n",
    "below-given password guidelines else it should return “Invalid Password”.\n",
    "Note: 1. The Password should contain at least two uppercase letters and at least two lowercase letters.\n",
    "2. The Password should contain at least a number and three special characters.\n",
    "3. The length of the password should be 10 characters long."
   ]
  },
  {
   "cell_type": "code",
   "execution_count": 1,
   "id": "5c763bc3-addd-46da-b19f-ae7cdbe1186b",
   "metadata": {},
   "outputs": [
    {
     "name": "stdout",
     "output_type": "stream",
     "text": [
      "Valid Password\n"
     ]
    }
   ],
   "source": [
    "import re\n",
    "password = \"R@m@_f0rtu9e$\"\n",
    "flag = 0\n",
    "while True:\n",
    "    if (len(password)<=8):\n",
    "        flag = -1\n",
    "        break\n",
    "    elif not re.search(\"[a-z]\", password):\n",
    "        flag = -1\n",
    "        break\n",
    "    elif not re.search(\"[A-Z]\", password):\n",
    "        flag = -1\n",
    "        break\n",
    "    elif not re.search(\"[0-9]\", password):\n",
    "        flag = -1\n",
    "        break\n",
    "    elif not re.search(\"[_@$]\" , password):\n",
    "        flag = -1\n",
    "        break\n",
    "    elif re.search(\"\\s\" , password):\n",
    "        flag = -1\n",
    "        break\n",
    "    else:\n",
    "        flag = 0\n",
    "        print(\"Valid Password\")\n",
    "        break\n",
    " \n",
    "if flag == -1:\n",
    "    print(\"Not a Valid Password \")"
   ]
  },
  {
   "cell_type": "markdown",
   "id": "db9c6821-8775-48ad-9b21-14a5013a3dc4",
   "metadata": {},
   "source": [
    "Q2. Solve the below-given questions using at least one of the following:\n",
    "1. Lambda functioJ\n",
    "2. Filter functioJ\n",
    "3. map function\n",
    "4. List Comprehension\n",
    "B Check if the string starts with a particular letter\n",
    "B Check if the string is numeric\n",
    "B Sort a list of tuples having fruit names and their quantity. [(\"mango\",99),(\"orange\",80), (\"grapes\", 1000)-\n",
    "B Find the squares of numbers from 1 to 10\n",
    "B Find the cube root of numbers from 1 to 10\n",
    "B Check if a given number is even\n",
    "B Filter odd numbers from the given list.\n",
    "[1,2,3,4,5,6,7,8,9,10-\n",
    "B Sort a list of integers into positive and negative integers lists.\n",
    "[1,2,3,4,5,6,-1,-2,-3,-4,-5,0]"
   ]
  },
  {
   "cell_type": "code",
   "execution_count": 3,
   "id": "ee26d09b-91d6-4d6b-82ec-91d77b4c3c58",
   "metadata": {},
   "outputs": [
    {
     "name": "stdout",
     "output_type": "stream",
     "text": [
      "True\n",
      "False\n"
     ]
    }
   ],
   "source": [
    "#1 Check if the string starts with a particular letter\n",
    "start_with=lambda string,ltr:string[0]==ltr\n",
    "print(start_with('Hello','H'))\n",
    "print(start_with('Hello','h'))\n"
   ]
  },
  {
   "cell_type": "code",
   "execution_count": 5,
   "id": "17d0ef2c-592e-4e53-b37f-236c1ca01e4b",
   "metadata": {},
   "outputs": [
    {
     "name": "stdout",
     "output_type": "stream",
     "text": [
      "True\n",
      "False\n"
     ]
    }
   ],
   "source": [
    "#2.Check if the string is numeric:\n",
    "def is_numeric(string):\n",
    "    return string.isdigit()\n",
    "\n",
    "print(is_numeric(\"123\")) # True\n",
    "print(is_numeric(\"abc\")) # false\n",
    "    "
   ]
  },
  {
   "cell_type": "code",
   "execution_count": 6,
   "id": "a197a889-befa-4a27-904d-07a0f71241f4",
   "metadata": {},
   "outputs": [
    {
     "name": "stdout",
     "output_type": "stream",
     "text": [
      "[('orange', 80), ('mango', 99), ('grapes', 1000)]\n"
     ]
    }
   ],
   "source": [
    "#3.Sort a list of tuples having fruit names and their quantity:\n",
    "fruits = [(\"mango\", 99), (\"orange\", 80), (\"grapes\", 1000)]\n",
    "\n",
    "sorted_fruits = sorted(fruits, key=lambda x: x[1])\n",
    "\n",
    "print(sorted_fruits) # [(\"mango\", 99), (\"orange\", 80), (\"grapes\", 1000)]\n"
   ]
  },
  {
   "cell_type": "code",
   "execution_count": 7,
   "id": "91f24dd9-2e10-4710-9f11-24251b8fe44a",
   "metadata": {},
   "outputs": [
    {
     "data": {
      "text/plain": [
       "[1, 4, 9, 16, 25, 36, 49, 64, 81, 100]"
      ]
     },
     "execution_count": 7,
     "metadata": {},
     "output_type": "execute_result"
    }
   ],
   "source": [
    "#4 Find the squares of numbers from 1 to 10\n",
    "[i**2 for i in range(1,11)]"
   ]
  },
  {
   "cell_type": "code",
   "execution_count": 8,
   "id": "74ad6dd9-c1ad-48e5-8138-41f3cd08e415",
   "metadata": {},
   "outputs": [
    {
     "data": {
      "text/plain": [
       "[1.0,\n",
       " 1.2599210498948732,\n",
       " 1.4422495703074083,\n",
       " 1.5874010519681994,\n",
       " 1.7099759466766968,\n",
       " 1.8171205928321397,\n",
       " 1.912931182772389,\n",
       " 2.0,\n",
       " 2.080083823051904,\n",
       " 2.154434690031884]"
      ]
     },
     "execution_count": 8,
     "metadata": {},
     "output_type": "execute_result"
    }
   ],
   "source": [
    "#5 Find the cube root of numbers from 1 to 10\n",
    "import math\n",
    "\n",
    "[math.pow(x, 1/3) for x in range(1, 11)]\n",
    "\n"
   ]
  },
  {
   "cell_type": "code",
   "execution_count": 9,
   "id": "455d54d8-3e67-4357-9094-f8eb7d603472",
   "metadata": {},
   "outputs": [
    {
     "data": {
      "text/plain": [
       "False"
      ]
     },
     "execution_count": 9,
     "metadata": {},
     "output_type": "execute_result"
    }
   ],
   "source": [
    "#7  Check if a given number is even\n",
    "def is_even(number):\n",
    "    return number%2==0\n",
    "is_even(13)"
   ]
  },
  {
   "cell_type": "code",
   "execution_count": 11,
   "id": "c8d777f5-a0fb-47ee-8647-503b2990252a",
   "metadata": {},
   "outputs": [
    {
     "name": "stdout",
     "output_type": "stream",
     "text": [
      "[1, 3, 5, 7, 9]\n"
     ]
    }
   ],
   "source": [
    "#6 Filter odd numbers from the given list.\n",
    "numbers = [1, 2, 3, 4, 5, 6, 7, 8, 9, 10]\n",
    "\n",
    "odd_numbers = [x for x in numbers if x % 2 != 0]\n",
    "\n",
    "print(odd_numbers)"
   ]
  },
  {
   "cell_type": "code",
   "execution_count": 16,
   "id": "daca1422-820c-427f-922e-b19bd96b3152",
   "metadata": {},
   "outputs": [
    {
     "name": "stdout",
     "output_type": "stream",
     "text": [
      "+ve [1, 2, 3, 4, 5, 6, 0]\n",
      "-ve [-1, -2, -3, -4, -5]\n"
     ]
    }
   ],
   "source": [
    "#7 Sort a list of integers into positive and negative integers lists.\n",
    "l=[1,2,3,4,5,6,-1,-2,-3,-4,-5,0]\n",
    "positive_nums=[]\n",
    "negative_nums=[]\n",
    "for i in l:\n",
    "    if i>=0:\n",
    "        positive_nums.append(i)\n",
    "    else:\n",
    "        negative_nums.append(i)\n",
    "print('+ve',positive_nums)\n",
    "print('-ve',negative_nums)"
   ]
  },
  {
   "cell_type": "code",
   "execution_count": null,
   "id": "a4710751-0bfa-443c-9c39-d57d26ef38f1",
   "metadata": {},
   "outputs": [],
   "source": []
  }
 ],
 "metadata": {
  "kernelspec": {
   "display_name": "Python 3 (ipykernel)",
   "language": "python",
   "name": "python3"
  },
  "language_info": {
   "codemirror_mode": {
    "name": "ipython",
    "version": 3
   },
   "file_extension": ".py",
   "mimetype": "text/x-python",
   "name": "python",
   "nbconvert_exporter": "python",
   "pygments_lexer": "ipython3",
   "version": "3.10.8"
  }
 },
 "nbformat": 4,
 "nbformat_minor": 5
}
