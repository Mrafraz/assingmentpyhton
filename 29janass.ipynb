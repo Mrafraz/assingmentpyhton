{
 "cells": [
  {
   "cell_type": "markdown",
   "id": "3006f231-2576-43fc-a333-8d7b31cb8fba",
   "metadata": {},
   "source": [
    "1. Who Developed the python programming language?\n"
   ]
  },
  {
   "cell_type": "markdown",
   "id": "6a7d8894-bf8e-4159-8014-ad09b65a4879",
   "metadata": {},
   "source": [
    "Guido Van Rossum\n",
    "\n"
   ]
  },
  {
   "cell_type": "markdown",
   "id": "d0a0f9c9-3268-4b50-88e7-a0577cc4e11d",
   "metadata": {},
   "source": [
    "\n",
    "\n",
    "2.Which type of programming does python support?\n",
    "Object oriented programing and structured programing\n",
    "\n",
    "3.is python case sensitive when dealing with identifier?\n",
    "yes it is a case sensitive\n",
    "\n",
    "4.what is the correct extension of python file?\n",
    "py\n",
    "\n",
    "5.is python code compiled or interpreted ?\n",
    "Python is an interpreted language, which means the source code of a Python program is converted into bytecode that is then executed by the Python virtual machine\n",
    "\n",
    "6.Name a few blocks of code used to define in Python language?\n",
    "Python uses indentation to define blocks of code. Indentations are simply spaces or tabs used as an indicator that is part of the indent code child.\n",
    "\n",
    "if (condition):\n",
    "\n",
    "    # Statement 1\n",
    "\n",
    "else:\n",
    "\n",
    "    # Statement 2\n",
    "\n",
    "You will find that statements 1 will have the same indentation and therefore is of the same block. And similarly, statements 2 is of a another block.\n",
    "\n",
    "7.State a character used to give single-line comments in Python?\n",
    "' # ' symbol to write a single-line comment.\n",
    "\n",
    "8.Mention functions which can help us to find the version of python that we are currently working on?\n",
    "The function sys.version can help us to find the version of python that we are currently working on.\n",
    "\n",
    "9.Python supports the creation of anonymous functions at runtime, using a construct called\n",
    "Lambda\n",
    "\n",
    "10.What does pip stand for python?\n",
    "Preferred Installer Program\n",
    "\n",
    "11.Mention a few built- in functions in python?\n",
    "bool()\n",
    "This function takes a value as an argument and returns either True or False. It gives True if the value is not empty/zero/False. Or else it returns False.\n",
    "\n",
    "chr()\n",
    "This function takes the Unicode value as an input and returns the respective character.\n",
    "\n",
    "dict()\n",
    "This function converts the input into the dictionary data type and returns it.\n",
    "\n",
    "12.What is the maximum possible length of an identifier in Python?\n",
    "\n",
    "79 characters\n",
    "\n",
    "13.What are the benefits of using Python?\n",
    "\n",
    "Simple and Easy to learn\n",
    "Portable and Extensible\n",
    "Object-Oriented Programming\n",
    "Artificial Intelligence\n",
    "Big Data\n",
    "Python can handle plenty of an immense amount of data.\n",
    "\n",
    "14.How is memory managed in Python?\n",
    "Memory in Python is managed by Python private heap space. All Python objects and data structures are located in a private heap. This private heap is taken care of by Python Interpreter itself, and a programmer doesn’t have access to this private heap. Python memory manager takes care of the allocation of Python private heap space. Memory for Python private heap space is made available by Python’s in-built garbage collector, which recycles and frees up all the unused memory. The allocation of heap space for Python objects and other internal buffers is performed on demand by the Python memory manager through the Python/C API functions listed in this document. To avoid memory corruption, extension writers should never try to operate on Python objects with the functions exported by the C library: malloc(), calloc(), realloc() and free().\n",
    "\n",
    "15.How to install Python on Windows and set path variables?\n",
    "First, we need to locate where the python is being installed after downloading it. Press WINDOWS key and search for “Python”, you will get something like this:Click on open file location and you will be in a location where Python is installed, Copy the location path from the top by clicking over it. Now, we have to add the above-copied path as a variable so that windows can recognize. Search for “Environmental Variables”, you will see something like this: Click on that( Now click the “Environmental Variables” button\n",
    "\n",
    "16.is indentation is required for the python?\n",
    "Indentation refers to the spaces at the beginning of a code line. Where in other programming languages the indentation in code is for readability only, for Python is very important. Python uses indentation to indicate a block of code\n",
    "\n",
    " "
   ]
  },
  {
   "cell_type": "code",
   "execution_count": null,
   "id": "edb15729-c0b0-4568-8c26-8187cc495d40",
   "metadata": {},
   "outputs": [],
   "source": []
  },
  {
   "cell_type": "code",
   "execution_count": null,
   "id": "c6c74953-1a25-4c3d-a721-d2f13ded6e01",
   "metadata": {},
   "outputs": [],
   "source": []
  },
  {
   "cell_type": "code",
   "execution_count": null,
   "id": "5ec80d04-a65f-4681-8822-811d1be09342",
   "metadata": {},
   "outputs": [],
   "source": []
  },
  {
   "cell_type": "code",
   "execution_count": null,
   "id": "f66b8a4e-2314-4263-80d3-0b0ee72ce343",
   "metadata": {},
   "outputs": [],
   "source": []
  },
  {
   "cell_type": "code",
   "execution_count": null,
   "id": "2e9e306d-4d0a-4854-ba7b-940040d464a1",
   "metadata": {},
   "outputs": [],
   "source": []
  },
  {
   "cell_type": "code",
   "execution_count": null,
   "id": "de6b0551-1eff-435d-be40-a561dca3cc2d",
   "metadata": {},
   "outputs": [],
   "source": []
  }
 ],
 "metadata": {
  "kernelspec": {
   "display_name": "Python 3 (ipykernel)",
   "language": "python",
   "name": "python3"
  },
  "language_info": {
   "codemirror_mode": {
    "name": "ipython",
    "version": 3
   },
   "file_extension": ".py",
   "mimetype": "text/x-python",
   "name": "python",
   "nbconvert_exporter": "python",
   "pygments_lexer": "ipython3",
   "version": "3.10.8"
  }
 },
 "nbformat": 4,
 "nbformat_minor": 5
}
