{
 "cells": [
  {
   "cell_type": "markdown",
   "id": "0875d26e-8501-4e58-99fe-937d86588a58",
   "metadata": {},
   "source": [
    "q1"
   ]
  },
  {
   "cell_type": "markdown",
   "id": "e6e9ff93-63a9-41c2-9128-4e0a255df919",
   "metadata": {},
   "source": [
    "A class is a user-defined data type. It consists of data members and member functions, which can be accessed and used by creating an instance of that class. It represents the set of properties or methods that are common to all objects of one type. A class is like a blueprint for an object.  "
   ]
  },
  {
   "cell_type": "markdown",
   "id": "a8ae8e87-72ae-4b3d-b014-c9e9202c2757",
   "metadata": {},
   "source": [
    " Consider the Class of Cars. There may be many cars with different names and brands but all of them will share some common properties like all of them will have 4 wheels, Speed Limit, Mileage range, etc. So here, Car is the class, and wheels, speed limits, mileage are their properties."
   ]
  },
  {
   "cell_type": "code",
   "execution_count": null,
   "id": "0eb6870f-c3f7-403f-86e3-a9f476ddb776",
   "metadata": {},
   "outputs": [],
   "source": [
    "q2"
   ]
  },
  {
   "cell_type": "markdown",
   "id": "477c6cb4-65ae-4e7d-bc8c-730767874fdf",
   "metadata": {},
   "source": [
    "The four pillars of object-oriented programming are:\n",
    "\n",
    "Abstraction\n",
    "Encapsulation\n",
    "Inheritance\n",
    "Polymorphism"
   ]
  },
  {
   "cell_type": "markdown",
   "id": "96074ae5-23ec-46e1-a91b-a976e7aca4e7",
   "metadata": {},
   "source": [
    "q3"
   ]
  },
  {
   "cell_type": "markdown",
   "id": "da814757-60e3-4441-92e0-c14337faa24a",
   "metadata": {},
   "source": [
    "the__int__() function is used to take values from the user"
   ]
  },
  {
   "cell_type": "markdown",
   "id": "389b5728-b697-4d4a-b719-44f19f6461da",
   "metadata": {},
   "source": [
    "he __init__() function to assign values to object properties, or other operations that are necessary to do when the object is being created:"
   ]
  },
  {
   "cell_type": "code",
   "execution_count": 2,
   "id": "9b06cec2-e77a-4542-8436-2ddd7a0cd8af",
   "metadata": {},
   "outputs": [],
   "source": [
    "class personal_info:\n",
    "    def __init__(self,name,age):\n",
    "        self.name = name\n",
    "        self.age = age\n",
    "    def rtn_pi(self):\n",
    "       return  self.name,self.age\n"
   ]
  },
  {
   "cell_type": "code",
   "execution_count": 3,
   "id": "c141def2-d128-49b6-90af-def69a991aaa",
   "metadata": {},
   "outputs": [],
   "source": [
    "afz=personal_info(\"afraz\",19)"
   ]
  },
  {
   "cell_type": "markdown",
   "id": "0d523de3-0cbb-4063-9928-bb5f6b6fc24c",
   "metadata": {},
   "source": [
    "afz.rtn_pi()"
   ]
  },
  {
   "cell_type": "markdown",
   "id": "09c424fd-fef3-452d-818b-e73625618b28",
   "metadata": {},
   "source": [
    "q4"
   ]
  },
  {
   "cell_type": "markdown",
   "id": "3e8754d7-a1ce-4e03-924c-7cb188600f42",
   "metadata": {},
   "source": [
    "The Object man is passed into the self parameter so that the object can keep hold of its own data.\n",
    "Think of the process of instantiating an object like this: When an object is made, it uses the class as a template for its own data and methods. Without passing its own name into the self parameter, the attributes and methods in the class would remain as a general template and would not be referenced to (belong to) the object. By passing the object's name into the self parameter it means that if 30 objects are instantiated from the same class, they can all keep track of their own data and methods."
   ]
  },
  {
   "cell_type": "markdown",
   "id": "7b91d87d-3254-4c63-8296-1bda88c4e19e",
   "metadata": {},
   "source": [
    "q5"
   ]
  },
  {
   "cell_type": "markdown",
   "id": "5e824e86-8ac3-47ae-ae15-bb700e2d6357",
   "metadata": {},
   "source": [
    "Inheritance is defined as the mechanism of inheriting the properties of the base class to the child class. "
   ]
  },
  {
   "cell_type": "markdown",
   "id": "2791ab3c-70c9-4872-ba4b-62f7279a8473",
   "metadata": {},
   "source": [
    "1)Single Inheritance"
   ]
  },
  {
   "cell_type": "markdown",
   "id": "70d04fdd-b0cb-4096-9402-b4d809ada729",
   "metadata": {},
   "source": [
    "Single inheritance enables a derived class to inherit properties from a single parent class, thus enabling code reusability and the addition of new features to existing code.\n",
    "for eg: there is a base class a and b is another class which is derevied from a"
   ]
  },
  {
   "cell_type": "markdown",
   "id": "adfbf899-2873-4099-b88f-1c425db5a9fe",
   "metadata": {},
   "source": [
    "2)multiple inheritence"
   ]
  },
  {
   "cell_type": "markdown",
   "id": "08578e71-b22d-4530-88a5-9483bdd4f309",
   "metadata": {},
   "source": [
    "When a class can be derived from more than one base class this type of inheritance is called multiple inheritances. In multiple inheritances, all the features of the base classes are inherited into the derived class. \n",
    "eg:\n",
    "ther is a class c which is derived frm 2 base classes a and b \n"
   ]
  },
  {
   "cell_type": "markdown",
   "id": "48e8e24a-f7a2-4192-a2c9-a001dc20a7b4",
   "metadata": {},
   "source": [
    "3)Multilevel Inheritance :\n",
    "    \n",
    "    In multilevel inheritance, features of the base class and the derived class are further inherited into the new derived class. This is similar to a relationship representing a child and a grandfather. \n",
    "\n",
    "eg: for eg there is base class A and from it b is derived and from B c is derived "
   ]
  },
  {
   "cell_type": "markdown",
   "id": "0f3d9a1f-0214-4f7c-b590-d29fb33f070e",
   "metadata": {},
   "source": [
    "4)Hierarchical Inheritance: \n",
    "When more than one derived class are created from a single base this type of inheritance is called hierarchical inheritance. In this program, we have a parent (base) class and two child (derived) classes.\n",
    "    \n"
   ]
  },
  {
   "cell_type": "markdown",
   "id": "787a54de-5be4-4e9d-92d5-e50676387125",
   "metadata": {},
   "source": [
    "5)Hybrid Inheritance: \n",
    "Inheritance consisting of multiple types of inheritance is called hybrid inheritance.\n",
    "\n"
   ]
  }
 ],
 "metadata": {
  "kernelspec": {
   "display_name": "Python 3 (ipykernel)",
   "language": "python",
   "name": "python3"
  },
  "language_info": {
   "codemirror_mode": {
    "name": "ipython",
    "version": 3
   },
   "file_extension": ".py",
   "mimetype": "text/x-python",
   "name": "python",
   "nbconvert_exporter": "python",
   "pygments_lexer": "ipython3",
   "version": "3.10.8"
  }
 },
 "nbformat": 4,
 "nbformat_minor": 5
}
