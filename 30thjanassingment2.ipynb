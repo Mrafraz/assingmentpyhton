{
 "cells": [
  {
   "cell_type": "code",
   "execution_count": null,
   "id": "4ff96503-8305-43f5-aa0f-df8088f73786",
   "metadata": {},
   "outputs": [],
   "source": []
  },
  {
   "cell_type": "code",
   "execution_count": 2,
   "id": "8377fc54-4bab-450c-991e-20fd2b91ec4d",
   "metadata": {},
   "outputs": [
    {
     "name": "stdin",
     "output_type": "stream",
     "text": [
      "enter % 15\n"
     ]
    },
    {
     "name": "stdout",
     "output_type": "stream",
     "text": [
      "d grade\n"
     ]
    }
   ],
   "source": [
    "per=int(input(\"enter %\"))  #q1\n",
    "if per>90 :\n",
    "    print(\"a grade\")\n",
    "elif per>80 and per<=90 :\n",
    "    print(\"b grade\")\n",
    "elif per>=60 and per<=80 :\n",
    "    print(\"c grade\")\n",
    "elif per<60 :\n",
    "    print(\"d grade\")"
   ]
  },
  {
   "cell_type": "code",
   "execution_count": null,
   "id": "a75e729d-e6ae-4b65-8574-0ffbbc5558fe",
   "metadata": {},
   "outputs": [],
   "source": [
    "q2"
   ]
  },
  {
   "cell_type": "code",
   "execution_count": 8,
   "id": "939361bf-367e-48c7-bcc1-3cc8774f4cfc",
   "metadata": {},
   "outputs": [
    {
     "name": "stdin",
     "output_type": "stream",
     "text": [
      "enter tax 50000\n"
     ]
    },
    {
     "name": "stdout",
     "output_type": "stream",
     "text": [
      "52500.0\n"
     ]
    }
   ],
   "source": [
    "tax=int(input(\"enter tax\"))   #q2\n",
    "if tax>100000 :\n",
    "    print(tax+0.15*tax)\n",
    "elif tax>50000 and tax<=100000 :\n",
    "    print(tax+0.10*tax)\n",
    "elif tax<=50000 :\n",
    "    print(tax+0.05*tax)\n",
    "        "
   ]
  },
  {
   "cell_type": "code",
   "execution_count": null,
   "id": "662206af-3273-40ed-bb59-9d5fdbc9a2d8",
   "metadata": {},
   "outputs": [],
   "source": [
    "q3"
   ]
  },
  {
   "cell_type": "code",
   "execution_count": null,
   "id": "377037d6-6fc1-4a78-902a-203885278606",
   "metadata": {},
   "outputs": [],
   "source": [
    "#q3\n",
    "city=input(\"enter city to get a name of monuments in that city :\")\n",
    "if city==\"Delhi\" :\n",
    "    print(\"Red Fort\")\n",
    "elif city==\"Agra\" :\n",
    "    print(\"Taj Mahal\")\n",
    "elif city==\"Jaipur\" :\n",
    "    print(\"Jal Mahal\")\n",
    "else :\n",
    "    print(\"THERE ARE NO MONUMENTS IN THE CITY YOU HAVE ENETERD \")"
   ]
  },
  {
   "cell_type": "markdown",
   "id": "752cfb8d-ea38-414f-b1c6-94bcda198be4",
   "metadata": {},
   "source": [
    "q4"
   ]
  },
  {
   "cell_type": "code",
   "execution_count": 5,
   "id": "75fb1075-6eb5-4fb5-bbe6-f2fc83003dd9",
   "metadata": {},
   "outputs": [
    {
     "name": "stdin",
     "output_type": "stream",
     "text": [
      "enter a number to be divided by 3 33\n"
     ]
    },
    {
     "name": "stdout",
     "output_type": "stream",
     "text": [
      "2\n"
     ]
    }
   ],
   "source": [
    "#q4\n",
    "num=int(input('enter a number to be divided by 3'))\n",
    "count=0\n",
    "while num>10:\n",
    "    num/=3\n",
    "    count+=1\n",
    "print(count)"
   ]
  },
  {
   "cell_type": "markdown",
   "id": "baa83d4c-73ae-4a38-8223-073c7ea616d0",
   "metadata": {},
   "source": [
    "q5"
   ]
  },
  {
   "cell_type": "code",
   "execution_count": 7,
   "id": "7b48e5e6-3d27-4262-bf16-b45f5cc5a85d",
   "metadata": {},
   "outputs": [
    {
     "data": {
      "text/plain": [
       "'Ans => Python while loop is used to run a block code until a certain condition is met.\\n      The syntax of while loop is:\\n      while condition:\\n      # body of while loop\\n      Here,\\n      A while loop evaluates the condition\\n      If the condition evaluates to True, the code inside the while loop is executed.\\n      condition is evaluated again.\\n      This process continues until the condition is False.\\n      When condition evaluates to False, the loop stops'"
      ]
     },
     "execution_count": 7,
     "metadata": {},
     "output_type": "execute_result"
    }
   ],
   "source": [
    "#q5\n",
    "'''Ans => Python while loop is used to run a block code until a certain condition is met.\n",
    "      The syntax of while loop is:\n",
    "      while condition:\n",
    "      # body of while loop\n",
    "      Here,\n",
    "      A while loop evaluates the condition\n",
    "      If the condition evaluates to True, the code inside the while loop is executed.\n",
    "      condition is evaluated again.\n",
    "      This process continues until the condition is False.\n",
    "      When condition evaluates to False, the loop stops'''"
   ]
  },
  {
   "cell_type": "code",
   "execution_count": 15,
   "id": "13101c74-fdfe-4ae8-8ff8-4390085aeb85",
   "metadata": {},
   "outputs": [],
   "source": [
    "q6\n",
    "\n"
   ]
  },
  {
   "cell_type": "code",
   "execution_count": null,
   "id": "b4a056dd-e72e-48d5-aa6d-5465580cdf70",
   "metadata": {},
   "outputs": [],
   "source": [
    "i=0\n",
    "while i<6:\n",
    "    j=0\n",
    "    while j<6:\n",
    "        print('*',end='')\n",
    "        j+=1\n",
    "    print('')\n",
    "    i+=1"
   ]
  },
  {
   "cell_type": "code",
   "execution_count": null,
   "id": "db61d2d3-0666-45e8-b386-47c34fdea5cd",
   "metadata": {},
   "outputs": [],
   "source": [
    "i = 1\n",
    "while i <= 5:\n",
    "    j = 1\n",
    "    while j <= i:\n",
    "        print(\"*\", end=\"\")\n",
    "        j += 1\n",
    "    print(\"\")\n",
    "    i += 1\n",
    "    "
   ]
  },
  {
   "cell_type": "code",
   "execution_count": null,
   "id": "766943cb-11fb-417b-8312-10398188a4cf",
   "metadata": {},
   "outputs": [],
   "source": [
    "#q7\n",
    "i=10\n",
    "while i>0 :\n",
    "    print(i)\n",
    "    i=i-1"
   ]
  },
  {
   "cell_type": "code",
   "execution_count": null,
   "id": "cbf504b0-3f62-4763-9799-5bfabd6ec608",
   "metadata": {},
   "outputs": [],
   "source": []
  },
  {
   "cell_type": "code",
   "execution_count": null,
   "id": "d4f21c76-d4e0-45ab-bded-4989be2c8780",
   "metadata": {},
   "outputs": [],
   "source": []
  }
 ],
 "metadata": {
  "kernelspec": {
   "display_name": "Python 3 (ipykernel)",
   "language": "python",
   "name": "python3"
  },
  "language_info": {
   "codemirror_mode": {
    "name": "ipython",
    "version": 3
   },
   "file_extension": ".py",
   "mimetype": "text/x-python",
   "name": "python",
   "nbconvert_exporter": "python",
   "pygments_lexer": "ipython3",
   "version": "3.10.8"
  }
 },
 "nbformat": 4,
 "nbformat_minor": 5
}
