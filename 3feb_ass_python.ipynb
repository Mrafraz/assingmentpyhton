{
 "cells": [
  {
   "cell_type": "markdown",
   "id": "d047e431-0bcd-4f71-8482-d566b059ef10",
   "metadata": {},
   "source": [
    "Q1. Which keyword is used to create a function? Create a function to return a list of odd numbers in the\n",
    "range of 1 to 25.\n",
    "\n",
    "def is used to create a function"
   ]
  },
  {
   "cell_type": "code",
   "execution_count": 1,
   "id": "8f857bad-ed05-46d6-924b-a4ebb9664c56",
   "metadata": {},
   "outputs": [],
   "source": [
    "def get_odd(lst):\n",
    "    return[i for i in lst if i%2!=0]"
   ]
  },
  {
   "cell_type": "code",
   "execution_count": 3,
   "id": "446353b1-1201-4b63-98b9-a63dc635dc60",
   "metadata": {},
   "outputs": [
    {
     "data": {
      "text/plain": [
       "[1, 3, 5, 7, 9, 11, 13, 15, 17, 19, 21, 23, 25]"
      ]
     },
     "execution_count": 3,
     "metadata": {},
     "output_type": "execute_result"
    }
   ],
   "source": [
    "get_odd([i for i in range(1,26)])"
   ]
  },
  {
   "cell_type": "markdown",
   "id": "6902e164-aab4-4b15-ae09-97deaa5157a5",
   "metadata": {},
   "source": [
    "Q2. Why *args and **kwargs is used in some functions? Create a function each for *args and **kwargs\n",
    "to demonstrate their use."
   ]
  },
  {
   "cell_type": "markdown",
   "id": "26902dcc-9e16-402b-8f83-25a23119593e",
   "metadata": {},
   "source": [
    "args and kwargs are used in functions to allow them to accept a varying number of arguments. *args is used to send a non-keyworded variable length argument list to the function. It allows you to pass a variable number of arguments to a function, which will be received as a tuple. kwargs is used to pass keyworded variable length of arguments to a function, which will be received as a dictionary. Here's an example of how you can use args and *kwargs in a function:"
   ]
  },
  {
   "cell_type": "code",
   "execution_count": 4,
   "id": "00f68420-f306-4a44-aae2-82d8ac5e72d4",
   "metadata": {},
   "outputs": [],
   "source": [
    "def print_args(*args):\n",
    "    print('here are from args',args)\n",
    "def print_kargs(**kargs):\n",
    "    print('here are from kargs',args)\n"
   ]
  },
  {
   "cell_type": "markdown",
   "id": "b1df7762-0052-4968-a8b2-6f18f253628f",
   "metadata": {},
   "source": [
    "Q3. What is an iterator in python? Name the method used to initialise the iterator object and the method\n",
    "used for iteration. Use these methods to print the first five elements of the given list [2, 4, 6, 8, 10, 12, 14,\n",
    "16, 18, 20]."
   ]
  },
  {
   "cell_type": "markdown",
   "id": "6b6dac77-dd89-402f-ae29-51252f794567",
   "metadata": {},
   "source": [
    "An iterator in Python is an object that implements the iterator protocol, which consists of two methods: iter() and next(). The iter() method is used to initialize the iterator object, and the next() method is used for iteration.\n",
    "\n"
   ]
  },
  {
   "cell_type": "code",
   "execution_count": 2,
   "id": "617e9a3f-913d-4bca-8039-0e14000a6c1b",
   "metadata": {},
   "outputs": [
    {
     "name": "stdout",
     "output_type": "stream",
     "text": [
      "2\n",
      "4\n",
      "6\n",
      "8\n",
      "10\n"
     ]
    }
   ],
   "source": [
    "numbers=[2, 4, 6, 8, 10, 12, 14, 16, 18, 20]\n",
    "class topnumbers:\n",
    "    def __init__(self,limit):\n",
    "        self.limit=limit\n",
    "        self.counter=0\n",
    "    def __iter__(self):\n",
    "        return self\n",
    "    def __next__(self):\n",
    "        if self.counter<self.limit:\n",
    "            number=numbers[self.counter]\n",
    "            self.counter+=1\n",
    "            return number\n",
    "        else:\n",
    "            raise StopIteration\n",
    "for number in topnumbers(5):\n",
    "    print(number)\n",
    "            "
   ]
  },
  {
   "cell_type": "markdown",
   "id": "df9fb368-49a2-4f6f-b318-d209f50b2920",
   "metadata": {},
   "source": [
    "4)What is a generator function in python? Why yield keyword is used? Give an example of a generator function.\n",
    "\n",
    "\n",
    "Ans> A generator function in Python is a function that returns a generator iterator. The yield keyword is used to return a value from a generator function and pause the function's execution. When the generator function is called again, it resumes execution from where it left off, using the saved state from the last call to yield."
   ]
  },
  {
   "cell_type": "code",
   "execution_count": 6,
   "id": "f26c5e84-c1c5-47c8-a78f-f6d7f42b23d2",
   "metadata": {},
   "outputs": [
    {
     "name": "stdout",
     "output_type": "stream",
     "text": [
      "<generator object fibonacci at 0x7f6130720c10>\n",
      "0\n",
      "1\n",
      "1\n",
      "2\n",
      "3\n",
      "5\n",
      "8\n"
     ]
    }
   ],
   "source": [
    "def fibonacci(limit):\n",
    "    a,b=0,1\n",
    "    while a<limit:\n",
    "        yield a\n",
    "        a,b=b,a+b\n",
    "        \n",
    "fib=fibonacci(10)\n",
    "print(fib)\n",
    "for number in fib:\n",
    "    print(number)"
   ]
  },
  {
   "cell_type": "markdown",
   "id": "19b08ea3-f8f2-44c2-8558-3517b0dcfc1b",
   "metadata": {},
   "source": [
    "Q5. Create a generator function for prime numbers less than 1000. Use the next() method to print the\n",
    "first 20 prime numbers."
   ]
  },
  {
   "cell_type": "code",
   "execution_count": 1,
   "id": "b056e5c3-b8ce-427f-8f47-daf3e13297ec",
   "metadata": {},
   "outputs": [
    {
     "name": "stdout",
     "output_type": "stream",
     "text": [
      "The first 20 prime numbers:\n",
      "2\n",
      "3\n",
      "5\n",
      "7\n",
      "11\n",
      "13\n",
      "17\n",
      "19\n",
      "23\n",
      "29\n",
      "31\n",
      "37\n",
      "41\n",
      "43\n",
      "47\n",
      "53\n",
      "59\n",
      "61\n",
      "67\n",
      "71\n"
     ]
    }
   ],
   "source": [
    "def prime_numbers():\n",
    "    yield 2\n",
    "    primes = [2]\n",
    "    candidate = 3\n",
    "    while candidate < 1000:\n",
    "        is_prime = True\n",
    "        for prime in primes:\n",
    "            if candidate % prime == 0:\n",
    "                is_prime = False\n",
    "                break\n",
    "        if is_prime:\n",
    "            primes.append(candidate)\n",
    "            yield candidate\n",
    "        candidate += 2\n",
    "\n",
    "primes = prime_numbers()\n",
    "\n",
    "print(\"The first 20 prime numbers:\")\n",
    "for i in range(20):\n",
    "    print(next(primes))"
   ]
  },
  {
   "cell_type": "markdown",
   "id": "32414c23-9ba9-4bdb-960d-e45ea7a91720",
   "metadata": {},
   "source": [
    "Q6. Write a python program to print the first 10 Fibonacci numbers using a while loop."
   ]
  },
  {
   "cell_type": "code",
   "execution_count": 4,
   "id": "d1c1cbb0-6342-43f3-bd43-3b06b6d83101",
   "metadata": {},
   "outputs": [
    {
     "name": "stdout",
     "output_type": "stream",
     "text": [
      "0\n",
      "1\n",
      "1\n",
      "2\n",
      "3\n",
      "5\n",
      "8\n",
      "13\n",
      "21\n",
      "34\n"
     ]
    }
   ],
   "source": [
    "a,b=0,1\n",
    "i=1\n",
    "while i<=10:\n",
    "    print(a)\n",
    "    a,b=b,a+b\n",
    "    i+=1\n",
    "    "
   ]
  },
  {
   "cell_type": "markdown",
   "id": "a51a4db1-03d3-477d-b396-c3317affc5c0",
   "metadata": {},
   "source": [
    "Q7. Write a List Comprehension to iterate through the given string: ‘pwskills’.\n",
    "Expected output: ['p', 'w', 's', 'k', 'i', 'l', 'l', 's']"
   ]
  },
  {
   "cell_type": "code",
   "execution_count": 7,
   "id": "33858ff9-295e-44c3-ab39-d64ef4a39f38",
   "metadata": {},
   "outputs": [
    {
     "data": {
      "text/plain": [
       "['p', 'w', 's', 'k', 'i', 'l', 'l', 's']"
      ]
     },
     "execution_count": 7,
     "metadata": {},
     "output_type": "execute_result"
    }
   ],
   "source": [
    "str='pwskills'\n",
    "[i for i in str]"
   ]
  },
  {
   "cell_type": "markdown",
   "id": "fc422c51-f8ae-4e53-9292-29185045b31b",
   "metadata": {},
   "source": [
    "Q8. Write a python program to check whether a given number is Palindrome or not using a while loop."
   ]
  },
  {
   "cell_type": "code",
   "execution_count": 20,
   "id": "3a18cee9-95d0-4f1a-906a-55ecd041bd3c",
   "metadata": {},
   "outputs": [
    {
     "name": "stdin",
     "output_type": "stream",
     "text": [
      "enter a num: 131\n"
     ]
    },
    {
     "name": "stdout",
     "output_type": "stream",
     "text": [
      "yes  is palindrome\n"
     ]
    }
   ],
   "source": [
    "def is_palindrome(num):\n",
    "    original=num\n",
    "    reverse=0\n",
    "    while num>0:\n",
    "        digit=num%10\n",
    "        reverse=reverse*10+digit\n",
    "        num//=10\n",
    "    return original==reverse\n",
    "number=int(input('enter a num:'))\n",
    "if is_palindrome(number):\n",
    "    print('yes  is palindrome')\n",
    "else:\n",
    "    print('is not palindrome')"
   ]
  },
  {
   "cell_type": "markdown",
   "id": "9ab622f7-5b10-4740-bdc1-9a058c217b01",
   "metadata": {},
   "source": [
    "Q9. Write a code to print odd numbers from 1 to 100 using list comprehension."
   ]
  },
  {
   "cell_type": "code",
   "execution_count": 21,
   "id": "0bb597fe-d23b-486e-9c91-9cdf662fff67",
   "metadata": {},
   "outputs": [],
   "source": [
    "lst=[i for i in range(1,101)]"
   ]
  },
  {
   "cell_type": "code",
   "execution_count": 22,
   "id": "20e0ba44-5378-40d5-a6be-e3c69ac06209",
   "metadata": {},
   "outputs": [
    {
     "data": {
      "text/plain": [
       "[1,\n",
       " 3,\n",
       " 5,\n",
       " 7,\n",
       " 9,\n",
       " 11,\n",
       " 13,\n",
       " 15,\n",
       " 17,\n",
       " 19,\n",
       " 21,\n",
       " 23,\n",
       " 25,\n",
       " 27,\n",
       " 29,\n",
       " 31,\n",
       " 33,\n",
       " 35,\n",
       " 37,\n",
       " 39,\n",
       " 41,\n",
       " 43,\n",
       " 45,\n",
       " 47,\n",
       " 49,\n",
       " 51,\n",
       " 53,\n",
       " 55,\n",
       " 57,\n",
       " 59,\n",
       " 61,\n",
       " 63,\n",
       " 65,\n",
       " 67,\n",
       " 69,\n",
       " 71,\n",
       " 73,\n",
       " 75,\n",
       " 77,\n",
       " 79,\n",
       " 81,\n",
       " 83,\n",
       " 85,\n",
       " 87,\n",
       " 89,\n",
       " 91,\n",
       " 93,\n",
       " 95,\n",
       " 97,\n",
       " 99]"
      ]
     },
     "execution_count": 22,
     "metadata": {},
     "output_type": "execute_result"
    }
   ],
   "source": [
    "[i for i in lst if i%2!=0]"
   ]
  },
  {
   "cell_type": "code",
   "execution_count": null,
   "id": "c9a3a369-0e47-4fcb-8f89-43394a54a031",
   "metadata": {},
   "outputs": [],
   "source": []
  }
 ],
 "metadata": {
  "kernelspec": {
   "display_name": "Python 3 (ipykernel)",
   "language": "python",
   "name": "python3"
  },
  "language_info": {
   "codemirror_mode": {
    "name": "ipython",
    "version": 3
   },
   "file_extension": ".py",
   "mimetype": "text/x-python",
   "name": "python",
   "nbconvert_exporter": "python",
   "pygments_lexer": "ipython3",
   "version": "3.10.8"
  }
 },
 "nbformat": 4,
 "nbformat_minor": 5
}
