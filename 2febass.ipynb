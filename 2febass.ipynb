{
 "cells": [
  {
   "cell_type": "code",
   "execution_count": null,
   "id": "e0d4e0a8-c3d5-431c-873f-6ab2129db3ad",
   "metadata": {},
   "outputs": [],
   "source": [
    "Q1. Explain with an example each when to use a for loop and a while loop."
   ]
  },
  {
   "cell_type": "markdown",
   "id": "77a286cb-bca3-493b-bfc7-73e8f81546a4",
   "metadata": {},
   "source": [
    "Use a for loop to iterate over an array.\n",
    "Use a for loop when you know the loop should execute n times.\n",
    "Use a while loop for reading a file into a variable.\n",
    "Use a while loop when asking for user input.\n",
    "Use a while loop when the increment value is nonstandar"
   ]
  },
  {
   "cell_type": "code",
   "execution_count": null,
   "id": "3e6be94e-edeb-441c-9f08-b644e7dd8226",
   "metadata": {},
   "outputs": [],
   "source": [
    "q2.Write a python program to print the sum and product of the first 10 natural numbers using for\n",
    "and while loop."
   ]
  },
  {
   "cell_type": "code",
   "execution_count": 4,
   "id": "b74ad65b-93b1-479b-8ff2-cacb24e87846",
   "metadata": {},
   "outputs": [
    {
     "name": "stdout",
     "output_type": "stream",
     "text": [
      "sum of first 10 natural number : 55\n",
      "product of first 10 natural number : 3628800\n"
     ]
    }
   ],
   "source": [
    "#for loop\n",
    "sum=0\n",
    "product=1\n",
    "for i in range(1,11):\n",
    "    sum+=i\n",
    "    product*=i\n",
    "print('sum of first 10 natural number :',sum)\n",
    "print('product of first 10 natural number :',product)"
   ]
  },
  {
   "cell_type": "code",
   "execution_count": 2,
   "id": "55582271-44ef-4442-873e-b2f1ff485591",
   "metadata": {},
   "outputs": [
    {
     "name": "stdout",
     "output_type": "stream",
     "text": [
      "sum of first 10 natural number : 55\n",
      "product of first 10 natural number : 3628800\n"
     ]
    }
   ],
   "source": [
    "#while loop\n",
    "sum=0\n",
    "product=1\n",
    "i=1\n",
    "while i<=10:\n",
    "    sum+=i\n",
    "    product*=i\n",
    "    i+=1\n",
    "print('sum of first 10 natural number :',sum)\n",
    "print('product of first 10 natural number :',product)"
   ]
  },
  {
   "cell_type": "code",
   "execution_count": null,
   "id": "fdad1dd5-7353-48bc-a2aa-8980c0e92ea3",
   "metadata": {},
   "outputs": [],
   "source": [
    "Q3. Create a python program to compute the electricity bill for a household.\n",
    "The per-unit charges in rupees are as follows: For the first 100 units, the user will be charged Rs. 4.5 per\n",
    "unit, for the next 100 units, the user will be charged Rs. 6 per unit, and for the next 100 units, the user will\n",
    "be charged Rs. 10 per unit, After 300 units and above the user will be charged Rs. 20 per unit."
   ]
  },
  {
   "cell_type": "code",
   "execution_count": 3,
   "id": "152d46ab-1e23-428c-953d-76b233e029a8",
   "metadata": {},
   "outputs": [
    {
     "name": "stdin",
     "output_type": "stream",
     "text": [
      "enter the units 50\n"
     ]
    },
    {
     "name": "stdout",
     "output_type": "stream",
     "text": [
      "your electricity bill is : 225.0\n"
     ]
    }
   ],
   "source": [
    "unit=int(input(\"enter the units\"))\n",
    "bill=0\n",
    "if unit<=100:\n",
    "    bill+=unit*4.5\n",
    "elif unit>100 and unit<=200:\n",
    "    bill=450\n",
    "    bill+=(unit-100)*6\n",
    "elif unit>200 and unit<=300:\n",
    "    bill=1050\n",
    "    bill+=(unit-200)*10\n",
    "elif unit>300:\n",
    "    bill=2050\n",
    "    bill+=(unit-300)*20\n",
    "else:\n",
    "    print('enter valid unit')\n",
    "print('your electricity bill is :',bill)"
   ]
  },
  {
   "cell_type": "markdown",
   "id": "c2686610-1a68-4aed-93b8-749e90e87038",
   "metadata": {},
   "source": [
    "Q4. Create a list of numbers from 1 to 100. Use for loop and while loop to calculate the cube of each\n",
    "number and if the cube of that number is divisible by 4 or 5 then append that number in a list and print\n",
    "that list."
   ]
  },
  {
   "cell_type": "code",
   "execution_count": 5,
   "id": "b4dd4fc1-7bfe-476e-88aa-8d78a8b6a206",
   "metadata": {},
   "outputs": [
    {
     "name": "stdout",
     "output_type": "stream",
     "text": [
      "[8, 64, 125, 216, 512, 1000, 1728, 2744, 3375, 4096, 5832, 8000, 10648, 13824, 15625, 17576, 21952, 27000, 32768, 39304, 42875, 46656, 54872, 64000, 74088, 85184, 91125, 97336, 110592, 125000, 140608, 157464, 166375, 175616, 195112, 216000, 238328, 262144, 274625, 287496, 314432, 343000, 373248, 405224, 421875, 438976, 474552, 512000, 551368, 592704, 614125, 636056, 681472, 729000, 778688, 830584, 857375, 884736, 941192, 1000000]\n"
     ]
    }
   ],
   "source": [
    "l=list(range(1,101))\n",
    "ans=[]\n",
    "k=0\n",
    "while k<100:\n",
    "    j=l[k]**3\n",
    "    if(j%4==0 or j%5==0):\n",
    "        ans.append(j)\n",
    "    k+=1\n",
    "print(ans)"
   ]
  },
  {
   "cell_type": "code",
   "execution_count": 2,
   "id": "0592c3d2-f568-40d8-b8fb-48f8f20cb72a",
   "metadata": {},
   "outputs": [],
   "source": [
    "Q5. Write a program to filter count vowels in the below-given string.\n",
    "string = \"I want to become a data scientist\""
   ]
  },
  {
   "cell_type": "code",
   "execution_count": 6,
   "id": "112c6316-ab03-4214-8166-631825b2de0d",
   "metadata": {},
   "outputs": [
    {
     "name": "stdin",
     "output_type": "stream",
     "text": [
      "Enter the input i want to becone a data scientist\n"
     ]
    },
    {
     "name": "stdout",
     "output_type": "stream",
     "text": [
      "12\n"
     ]
    }
   ],
   "source": [
    "sts = str(input(\"Enter the input\"))\n",
    "vowels = 'aeiouAEIOU'\n",
    "count=0\n",
    "for char in sts:\n",
    "    if char in vowels:\n",
    "       count+=1\n",
    "print(count)"
   ]
  },
  {
   "cell_type": "code",
   "execution_count": null,
   "id": "d62bbac5-60c2-4eb1-9576-95ddeb037b54",
   "metadata": {},
   "outputs": [],
   "source": []
  }
 ],
 "metadata": {
  "kernelspec": {
   "display_name": "Python 3 (ipykernel)",
   "language": "python",
   "name": "python3"
  },
  "language_info": {
   "codemirror_mode": {
    "name": "ipython",
    "version": 3
   },
   "file_extension": ".py",
   "mimetype": "text/x-python",
   "name": "python",
   "nbconvert_exporter": "python",
   "pygments_lexer": "ipython3",
   "version": "3.10.8"
  }
 },
 "nbformat": 4,
 "nbformat_minor": 5
}
